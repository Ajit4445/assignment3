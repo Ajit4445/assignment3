{
 "cells": [
  {
   "cell_type": "code",
   "execution_count": 8,
   "id": "a0ed9b23-21a9-4888-8291-0a35d5c7b485",
   "metadata": {},
   "outputs": [],
   "source": [
    "def get_odd_numbers():\n",
    "    odd_numbers = []\n",
    "    for numbers in range (1,26):\n",
    "        if numbers % 2 != 0:\n",
    "            odd_numbers.append(numbers)\n",
    "    return odd_numbers"
   ]
  },
  {
   "cell_type": "code",
   "execution_count": 12,
   "id": "0ba26e7f-5ba6-4dc5-926c-2b76e6041c0f",
   "metadata": {},
   "outputs": [
    {
     "name": "stdout",
     "output_type": "stream",
     "text": [
      "[1, 3, 5, 7, 9, 11, 13, 15, 17, 19, 21, 23, 25]\n"
     ]
    }
   ],
   "source": [
    "print(get_odd_numbers())"
   ]
  },
  {
   "cell_type": "markdown",
   "id": "0b21986f-c47a-4539-9936-ec6acf0fef2e",
   "metadata": {},
   "source": [
    "#### *args syntax allows a function to accept any number of positional arguments. It collects these arguments into a tuple, which can then be accesed within the function . "
   ]
  },
  {
   "cell_type": "code",
   "execution_count": 2,
   "id": "b80ede73-ada7-48ad-85a2-48c53ffe9d17",
   "metadata": {},
   "outputs": [],
   "source": [
    "def concatenate_strings(*args):\n",
    "    result = \"\"\n",
    "    for arg in args:\n",
    "        result += arg\n",
    "    return result"
   ]
  },
  {
   "cell_type": "code",
   "execution_count": 6,
   "id": "41d0ab0f-1b43-46ce-a512-a8642e8f7ca0",
   "metadata": {},
   "outputs": [
    {
     "name": "stdout",
     "output_type": "stream",
     "text": [
      "hi my name is ajit singh\n"
     ]
    }
   ],
   "source": [
    "print(concatenate_strings(\"hi\",\" my \",\"\",\"name\",\" is \",\"\",\"ajit\",\"\",\" singh\"))"
   ]
  },
  {
   "cell_type": "markdown",
   "id": "211b2e94-48d9-4ac8-b7ca-fef0bd3217c2",
   "metadata": {},
   "source": [
    "#### **kwargs syntax allows a function to accept any number of keyword arguments (key value pair).It collects these arguments into a dictionary , which can be accessed within the function."
   ]
  },
  {
   "cell_type": "code",
   "execution_count": 7,
   "id": "78add108-96f3-4455-8e0b-e2961dd92e01",
   "metadata": {},
   "outputs": [],
   "source": [
    "def print_student_info(**kwargs):\n",
    "    for key , value in kwargs.items():\n",
    "        print(key + \":\" + value )"
   ]
  },
  {
   "cell_type": "code",
   "execution_count": 10,
   "id": "536a34cb-1fa9-4d3a-86f2-30a13f5ec685",
   "metadata": {},
   "outputs": [
    {
     "name": "stdout",
     "output_type": "stream",
     "text": [
      "name:ajit\n",
      "age:30\n",
      "major:mechanical\n",
      "GPA:9.2\n"
     ]
    }
   ],
   "source": [
    "print_student_info(name=\"ajit\",age = \"30\",major=\"mechanical\",GPA = \"9.2\")"
   ]
  },
  {
   "cell_type": "markdown",
   "id": "2db51dd1-4052-429a-9e49-98d146946139",
   "metadata": {},
   "source": [
    "#### NOTE that args and kwargs are just variable names and can be changed to any other valid variable names. the asterisk * is what signifies that the arguments should be collected into a tuple or dictionary, respetively."
   ]
  },
  {
   "cell_type": "markdown",
   "id": "d93a8034-8ba8-445b-b57a-794de5fb2110",
   "metadata": {},
   "source": [
    "#### in python iterator is an object that allows iteration over a sequence of elements"
   ]
  },
  {
   "cell_type": "code",
   "execution_count": 17,
   "id": "4b06d471-db2f-4864-9f4b-6d2afc23acab",
   "metadata": {},
   "outputs": [
    {
     "name": "stdout",
     "output_type": "stream",
     "text": [
      "2\n",
      "4\n",
      "6\n",
      "8\n",
      "10\n"
     ]
    }
   ],
   "source": [
    "l1 = [2,4,6,8,10,12,14,16,18,20]\n",
    "l2 = iter(l1)\n",
    "for i in range(5):\n",
    "    l3 = next(l2)\n",
    "    print(l3)"
   ]
  },
  {
   "cell_type": "code",
   "execution_count": 7,
   "id": "c5ba71eb-e924-434a-9d3d-32a6d662f2b9",
   "metadata": {},
   "outputs": [],
   "source": [
    "def prime_generator():\n",
    "    primes = []\n",
    "    num = 2\n",
    "    while True:\n",
    "        if all(num % prime != 0 for prime in primes):\n",
    "            primes.append(num)\n",
    "            yield num\n",
    "        num += 1"
   ]
  },
  {
   "cell_type": "code",
   "execution_count": 8,
   "id": "78fb3b66-8f60-4242-bb9a-e98aaf33832a",
   "metadata": {},
   "outputs": [],
   "source": [
    "prime_gen = prime_generator()"
   ]
  },
  {
   "cell_type": "code",
   "execution_count": 9,
   "id": "2a3605f2-7e24-4a75-830c-a3841e8a27b0",
   "metadata": {},
   "outputs": [
    {
     "name": "stdout",
     "output_type": "stream",
     "text": [
      "2\n",
      "3\n",
      "5\n",
      "7\n",
      "11\n",
      "13\n",
      "17\n",
      "19\n",
      "23\n",
      "29\n",
      "31\n",
      "37\n",
      "41\n",
      "43\n",
      "47\n",
      "53\n",
      "59\n",
      "61\n",
      "67\n",
      "71\n"
     ]
    }
   ],
   "source": [
    "for i in range(20):\n",
    "    prime_number = next(prime_gen)\n",
    "    print(prime_number)"
   ]
  },
  {
   "cell_type": "code",
   "execution_count": 10,
   "id": "fe0d83b6-b17d-406d-a470-7cce40576f9c",
   "metadata": {},
   "outputs": [],
   "source": [
    "count = 10"
   ]
  },
  {
   "cell_type": "code",
   "execution_count": 11,
   "id": "94163529-5d4f-4c1e-bddc-d73d30b7d00d",
   "metadata": {},
   "outputs": [],
   "source": [
    "fibonacci_sequence = []"
   ]
  },
  {
   "cell_type": "code",
   "execution_count": 13,
   "id": "9c2965e6-2586-4c0e-95c2-38278782643c",
   "metadata": {},
   "outputs": [],
   "source": [
    "a,b = 0,1\n",
    "while count > 0:\n",
    "    fibonacci_sequence.append(a)\n",
    "    a, b = b , a + b\n",
    "    count -= 1 \n",
    "    "
   ]
  },
  {
   "cell_type": "code",
   "execution_count": 14,
   "id": "23d092b8-3977-4051-aa80-0f09684a374b",
   "metadata": {},
   "outputs": [
    {
     "name": "stdout",
     "output_type": "stream",
     "text": [
      "0\n",
      "1\n",
      "1\n",
      "2\n",
      "3\n",
      "5\n",
      "8\n",
      "13\n",
      "21\n",
      "34\n"
     ]
    }
   ],
   "source": [
    "for number in fibonacci_sequence:\n",
    "    print(number)"
   ]
  },
  {
   "cell_type": "code",
   "execution_count": 15,
   "id": "c26e94b4-4aef-40d6-88f8-477a2c801692",
   "metadata": {},
   "outputs": [
    {
     "name": "stdout",
     "output_type": "stream",
     "text": [
      "['p', 'w', 's', 'k', 'i', 'l', 'l', 's']\n"
     ]
    }
   ],
   "source": [
    "string = \"pwskills\"\n",
    "output = []\n",
    "for char in string:\n",
    "    if char in \"pwskills\":\n",
    "        output.append(char)\n",
    "print(output)\n"
   ]
  },
  {
   "cell_type": "code",
   "execution_count": null,
   "id": "a300aae2-99f8-46ff-9207-a196678c207c",
   "metadata": {},
   "outputs": [],
   "source": [
    "def is_palindrome(number):\n",
    "    number_string = str(number)\n",
    "    "
   ]
  },
  {
   "cell_type": "code",
   "execution_count": null,
   "id": "ec57c2ad-4373-43f3-acd9-1ddf402d9102",
   "metadata": {},
   "outputs": [],
   "source": [
    "left = 0\n",
    "right = len(number_str) - 1\n"
   ]
  },
  {
   "cell_type": "code",
   "execution_count": null,
   "id": "24fb4b01-a945-4b92-aea4-ff5e354988fd",
   "metadata": {},
   "outputs": [],
   "source": [
    "while left < right:\n",
    "    if number_str[left] != number_str[right]:\n",
    "        return False\n",
    "    left += 1\n",
    "    right -= 1\n",
    "return True"
   ]
  },
  {
   "cell_type": "code",
   "execution_count": null,
   "id": "963fde56-e9b6-4695-9c54-d2cfb02539f7",
   "metadata": {},
   "outputs": [],
   "source": [
    "number = int(input(\"Enter a number: \"))\n",
    "if is_palindrome(number):\n",
    "    print(number,\"is a palindrome \")\n",
    "else:\n",
    "    print(number,\"is not a palindrome\")"
   ]
  },
  {
   "cell_type": "code",
   "execution_count": null,
   "id": "7f1e228d-68af-4f28-8bd1-e1ff1bc29205",
   "metadata": {},
   "outputs": [],
   "source": [
    "odd_numbers = [num for num in range (1,101) if num % 2 != 0]\n",
    "print(odd_numbers)"
   ]
  },
  {
   "cell_type": "code",
   "execution_count": null,
   "id": "96313edd-c46e-4239-90c0-7be136115db8",
   "metadata": {},
   "outputs": [],
   "source": []
  }
 ],
 "metadata": {
  "kernelspec": {
   "display_name": "Python 3 (ipykernel)",
   "language": "python",
   "name": "python3"
  },
  "language_info": {
   "codemirror_mode": {
    "name": "ipython",
    "version": 3
   },
   "file_extension": ".py",
   "mimetype": "text/x-python",
   "name": "python",
   "nbconvert_exporter": "python",
   "pygments_lexer": "ipython3",
   "version": "3.10.8"
  }
 },
 "nbformat": 4,
 "nbformat_minor": 5
}
